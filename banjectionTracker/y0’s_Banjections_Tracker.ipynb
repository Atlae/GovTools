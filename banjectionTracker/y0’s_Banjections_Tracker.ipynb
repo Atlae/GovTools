{
  "nbformat": 4,
  "nbformat_minor": 0,
  "metadata": {
    "colab": {
      "name": "y0’s Banjections Tracker",
      "provenance": [],
      "collapsed_sections": [],
      "include_colab_link": true
    },
    "kernelspec": {
      "name": "python3",
      "display_name": "Python 3"
    }
  },
  "cells": [
    {
      "cell_type": "markdown",
      "metadata": {
        "id": "view-in-github",
        "colab_type": "text"
      },
      "source": [
        "<a href=\"https://colab.research.google.com/github/NS-y0/GovTools/blob/master/banjectionTracker/y0%E2%80%99s_Banjections_Tracker.ipynb\" target=\"_parent\"><img src=\"https://colab.research.google.com/assets/colab-badge.svg\" alt=\"Open In Colab\"/></a>"
      ]
    },
    {
      "cell_type": "markdown",
      "metadata": {
        "id": "QATYNhvB3jXL",
        "colab_type": "text"
      },
      "source": [
        "# **About** \n",
        "---\n",
        "**Created on**: 2020 July 22\n",
        "\n",
        "**Author**: y0\n",
        "\n",
        "**Version**: 0.1\n",
        "\n",
        "**Contact**: \n",
        "*   Discord DM: y0#5738\n",
        "*   NS Telegram: Evrigenis\n",
        "\n",
        "**Modified from**: [Valentine-Z's Bank Retriever](https://colab.research.google.com/drive/1Rrd20eBdX-MvLkUHJGHhIdJP3SrjPbtE). As per [this discord message](https://discord.com/channels/539090576738353152/539217730881191957/681570395844902962), the Bank Retriever is in the public domain.\n",
        "\n",
        "**Purpose**: The aim of this code is for NationStates users to enter their region (or anyone else's, if they want) and see who was banjected in the last week.\n",
        "This code only extracts the information through public means (the NS API).\n",
        "IT DOES NOT ASK FOR YOUR PASSWORD, OR ANY OTHER SENSITIVE INFORMATION.\n",
        "All you need is a Google account, which you can use a burner account for privacy.\n",
        "\n",
        "**How to use**: Change the parameters, go to \"Runtime\" and press \"Run all.\"\n",
        "\n",
        "**Shareable Link**: https://colab.research.google.com/drive/1mUtnmdpjvsexHMmVYIR5PhM0BVz5pDiG?usp=sharing\n",
        "\n",
        "**License**:\n",
        "\n",
        "Copyright © 2020 y0\n",
        "\n",
        "Licensed under the Apache License, Version 2.0 (the \"License\");\n",
        "you may not use this file except in compliance with the License.\n",
        "You may obtain a copy of the License at\n",
        "\n",
        "[www.apache.org/licenses/LICENSE-2.0](https://)\n",
        "\n",
        "\n",
        "\n",
        "Unless required by applicable law or agreed to in writing,\n",
        "software distributed under the License is distributed on an \"AS IS\" BASIS,\n",
        "WITHOUT WARRANTIES OR CONDITIONS OF ANY KIND, either express or implied.\n",
        "See the License for the specific language governing permissions and\n",
        "limitations under the License.\n"
      ]
    },
    {
      "cell_type": "markdown",
      "metadata": {
        "id": "tKY9Z3yR83sQ",
        "colab_type": "text"
      },
      "source": [
        "# The Program"
      ]
    },
    {
      "cell_type": "markdown",
      "metadata": {
        "id": "2pLNgvY-9FWt",
        "colab_type": "text"
      },
      "source": [
        "##Parameters\n",
        "You must enter these values!"
      ]
    },
    {
      "cell_type": "code",
      "metadata": {
        "id": "nMs2hHMS9Zg5",
        "colab_type": "code",
        "colab": {}
      },
      "source": [
        "# USER AGENT - IMPORTANT! PLEASE CHANGE TO YOUR MAIN NATION FOR VALIDATION PURPOSE.\n",
        "main_nation = \"YOUR NATION HERE\" #@param{type:\"string\"}\n",
        "\n",
        "# This is where your list of regions go. LEAVE THE QUOTES ON EITHER END.\n",
        "# It must either be a list of names with \\n (Enter) for each line\n",
        "# or be comma-separated, e.g. \"region1, region2\".\n",
        "# It is NOT case sensitive. It may use spaces or underscores.\n",
        "region_list = \"the_east_pacific, the north pacific, some other region\" #@param{type:\"string\"}"
      ],
      "execution_count": null,
      "outputs": []
    },
    {
      "cell_type": "markdown",
      "metadata": {
        "id": "LCRKEOawIEps",
        "colab_type": "text"
      },
      "source": [
        "But these are optional"
      ]
    },
    {
      "cell_type": "code",
      "metadata": {
        "id": "MjWZ86BnIUA6",
        "colab_type": "code",
        "colab": {}
      },
      "source": [
        "# If you specify since_date, it must be in the format you have indicated.\n",
        "# to change to mm/dd/yy, just switch the format to \"%m/%d/%Y\"\n",
        "# See https://docs.python.org/3/library/time.html#time.strftime for more info\n",
        "since_date = \"2020-06-21\" #@param {type:\"date\"}\n",
        "date_format = \"%Y-%m-%d\" #@param{type:\"string\"}\n",
        "\n",
        "# In case the API request rate goes too fast, modify this number. Some browsers run faster than others.\n",
        "# ALWAYS make sure that the API request rate is within acceptable rate!\n",
        "# In seconds. E.g. 0.400 seconds, 1 second, etc...\n",
        "custom_delay = 0 #@param {type:\"number\"}\n",
        "\n",
        "# The NS API occasionally includes information about nations which were ejected\n",
        "# in regions that are NOT requested\n",
        "# Setting this to True filters them out, and setting this to false alows them.\n",
        "strict_filter = True #@param {type:\"boolean\"}"
      ],
      "execution_count": null,
      "outputs": []
    },
    {
      "cell_type": "code",
      "metadata": {
        "id": "vRIXbhgr0hQ2",
        "colab_type": "code",
        "colab": {}
      },
      "source": [
        "# if you want to use the data elsewhere\n",
        "export_file_name = \"banjections\" #@param {type:\"string\"}\n",
        "\n",
        "# if set to True, your browser downloads the data\n",
        "export_locally = False #@param {type:\"boolean\"}"
      ],
      "execution_count": null,
      "outputs": []
    },
    {
      "cell_type": "markdown",
      "metadata": {
        "id": "OBY4bz7B9tzX",
        "colab_type": "text"
      },
      "source": [
        "## Retrieval"
      ]
    },
    {
      "cell_type": "code",
      "metadata": {
        "id": "wnpObfFIPvyT",
        "colab_type": "code",
        "colab": {}
      },
      "source": [
        "import time\n",
        "from time import sleep\n",
        "from calendar import timegm\n",
        "import calendar\n",
        "\n",
        "import requests\n",
        "import xml.etree.ElementTree as ElementTree\n",
        "import re\n",
        "\n",
        "\n",
        "\n",
        "#---------------------------------------#\n",
        "# A little bit of pre-processing\n",
        "headers = {'User-Agent': \"y0's Ejection tracker. Built and maintained by https://nationstates.net/evrigenis, in use by \" + main_nation}\n",
        "\n",
        "region_array = re.split(',|\\n', region_list)\n",
        "list_of_regions = filter(None, region_array)\n",
        "\n",
        "if time.strptime(time.strftime(date_format, time.gmtime()), date_format).tm_year == 1900:\n",
        "  print(\"The date format is invalid. Proceeding with yyyy-mm-dd format\")\n",
        "  date_format = \"%Y-%m-%d\"\n",
        "\n",
        "formatted_time = \"0\"\n",
        "if since_date != \"\":\n",
        "  try:\n",
        "    formatted_time = str(calendar.timegm(time.strptime(since_date, date_format)))\n",
        "  except:\n",
        "    print(\"The date was entered incorrectly. Proceeding without entered date.\")\n",
        "#---------------------------------------#\n",
        "\n",
        "\n",
        "\n",
        "#---------------------------------------#\n",
        "# Variable Definitions\n",
        "num_nations = 0\n",
        "num_regions = 0\n",
        "\n",
        "time_list = []\n",
        "result_region_list = []\n",
        "RO_list = []\n",
        "ejected_list = []\n",
        "was_banned_list = []\n",
        "#---------------------------------------#\n",
        "\n",
        "\n",
        "\n",
        "#---------------------------------------#\n",
        "start_time = time.time()\n",
        "\n",
        "for region in list_of_regions:\n",
        "  try:\n",
        "    request_details = \"q=happenings;view=region.\" + region.replace(\" \", \"_\") + \";filter=eject;sincetime=\" + formatted_time\n",
        "    url = \"https://www.nationstates.net/cgi-bin/api.cgi?\" + request_details\n",
        "    r = requests.get(url, headers = headers)\n",
        "    root = ElementTree.fromstring(r.content)\n",
        "\n",
        "    print(region + \":\")\n",
        "    num_regions += 1\n",
        "\n",
        "    events = root.find(\"HAPPENINGS\").findall('EVENT')\n",
        "\n",
        "    if events == []:\n",
        "      raise AttributeError\n",
        "\n",
        "    \n",
        "\n",
        "\n",
        "    for scale in events:\n",
        "      parse_me = scale.find('TEXT').text\n",
        " \n",
        "      region_in_request = re.findall('(?<=%%)\\w+', parse_me)[0]\n",
        "      if (strict_filter and region_in_request != region):\n",
        "        continue\n",
        "      \n",
        "      nations_in_request = re.findall('(?<=@@)\\w+', parse_me)\n",
        "      RO = nations_in_request[1]\n",
        "      ejected_nation = nations_in_request[0]\n",
        "      was_banned = re.search(r'and banned', parse_me) != None\n",
        "\n",
        "      nations_in_request = re.findall('(?<=@@)\\w+', parse_me)\n",
        "\n",
        "      timestamp = int(scale.find('TIMESTAMP').text)\n",
        "      human_time = time.strftime(date_format, time.gmtime(timestamp))\n",
        "      \n",
        "      print('%15s' % \"Date \" + human_time + \",\",\n",
        "            '%5s' % \"RO\", RO + \",\",\n",
        "            '%25s' % \"Ejected Nation\", ejected_nation + \",\",\n",
        "            '%25s' % \"Was banned\", was_banned)\n",
        "\n",
        "      result_region_list.append(region)\n",
        "      time_list.append(human_time)\n",
        "      RO_list.append(RO)\n",
        "      ejected_list.append(ejected_nation)\n",
        "      was_banned_list.append(was_banned)\n",
        "\n",
        "      num_nations += 1\n",
        "      sleep(custom_delay)\n",
        "    print(\"\\n\")\n",
        "                     \n",
        "\n",
        "  except KeyboardInterrupt: # Interrupt with KB.\n",
        "    print(\"\\nINTERRUPTED! The error codes below are normal when interruption is executed.\")\n",
        "    duration = time.time() - start_time\n",
        "    \n",
        "    print(\"\\n\\n--- Total time of %s seconds ---\" % (duration))\n",
        "    print(\"INTERRUPTED Number of nations:\",num_nations)\n",
        "    print(\"INTERRUPTED Rate:\",(num_nations / duration))\n",
        "    print(\"Legal Rate:\",50/30,\"- 50 requests per 30 seconds.\")\n",
        "    raise\n",
        "\n",
        "  except (AttributeError):\n",
        "    print('%50s' % region,\": Region may or may not exist, but it has no info.\")\n",
        "    \n",
        "  finally:\n",
        "    sleep(custom_delay)\n",
        "#---------------------------------------#\n",
        "\n",
        "\n",
        "\n",
        "# Crucial stats to make sure that the tool follows the API rate limit. NOTE THAT THE ACTUAL RETRIEVAL RATE MIGHT BE HIGHER OR LOWER, DEPENDING ON THE ALGORITHMS OR YOUR COMPUTER PERFORMANCE.\n",
        "duration = time.time() - start_time\n",
        "print(\"--- Total time of %s seconds ---\" % (duration))\n",
        "print(\"Number of ejected nations:\",num_nations)\n",
        "print(\"Number of requested regions:\", num_regions)\n",
        "print(\"Rate:\",(num_regions / duration))\n",
        "print(\"Legal Rate:\",50/30,\"- 50 requests per 30 seconds.\")"
      ],
      "execution_count": null,
      "outputs": []
    },
    {
      "cell_type": "markdown",
      "metadata": {
        "id": "GR3EkHAF1_Xq",
        "colab_type": "text"
      },
      "source": [
        "##Export"
      ]
    },
    {
      "cell_type": "code",
      "metadata": {
        "id": "TMst2I1MVbf7",
        "colab_type": "code",
        "colab": {}
      },
      "source": [
        "# To export the data as a copiable table,\n",
        "# Click the table, press Ctrl + A to select the it all, and paste it where you wish.\n",
        "\n",
        "import pandas as pd\n",
        "\n",
        "pd.set_option('display.max_rows', None)\n",
        "\n",
        "df1 = pd.DataFrame({\"Region\": result_region_list,\n",
        "                    \"Date/Time\": time_list,\n",
        "                    \"RO\": RO_list,\n",
        "                    \"Ejected Nation\": ejected_list,\n",
        "                    \"Was banned\": was_banned_list})\n",
        "\n",
        "df1"
      ],
      "execution_count": null,
      "outputs": []
    },
    {
      "cell_type": "code",
      "metadata": {
        "id": "v5-YeGXfFJst",
        "colab_type": "code",
        "colab": {}
      },
      "source": [
        "if (export_locally):\n",
        "  from google.colab import files\n",
        "  with open(export_file_name + '.csv', 'w') as f:\n",
        "    df1.to_csv(f)\n",
        "  files.download(export_file_name + '.csv')"
      ],
      "execution_count": null,
      "outputs": []
    }
  ]
}